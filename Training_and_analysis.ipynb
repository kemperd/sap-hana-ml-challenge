{
 "cells": [
  {
   "cell_type": "code",
   "execution_count": 1,
   "id": "a4877ff4-2f99-4571-871d-b685aa520e78",
   "metadata": {},
   "outputs": [],
   "source": [
    "from hana_ml import DataFrame, ConnectionContext\n",
    "from hana_ml.dataframe import create_dataframe_from_pandas\n",
    "from hana_ml.algorithms.apl.gradient_boosting_classification import GradientBoostingBinaryClassifier\n",
    "from hana_ml.algorithms.pal.partition import train_test_val_split\n",
    "from hana_ml.visualizers.unified_report import UnifiedReport\n",
    "\n",
    "import os\n",
    "from dotenv import load_dotenv"
   ]
  },
  {
   "cell_type": "code",
   "execution_count": 2,
   "id": "90a80302-8cca-4f1b-aa77-a50810df7c35",
   "metadata": {},
   "outputs": [],
   "source": [
    "# Loads database connection parameters from .env file.\n",
    "# If this gives an error, copy file .env.example to .env and change it according to your parameters\n",
    "load_dotenv()\n",
    "\n",
    "# Instantiate connection object\n",
    "conn = ConnectionContext(\n",
    "    address = os.getenv('DB_HOST'),\n",
    "    port = os.getenv('DB_PORT'), \n",
    "    user = os.getenv('DB_USER'), \n",
    "    password = os.getenv('DB_PASS'), \n",
    "    encrypt = 'true',\n",
    "    sslValidateCertificate = 'false' \n",
    ")"
   ]
  },
  {
   "cell_type": "markdown",
   "id": "5b4e2a11-b934-4753-a9ff-fba54ff9ff0f",
   "metadata": {},
   "source": [
    "At this point we are assuming that table EMP_CHURN contains the data from the CSV file. This step has been done in the \"Data Upload\" notebook.\n",
    "\n",
    "We will split up the data into a train and test set. We do not need a validation set as the APL will already split the train set into a train and validation set internally. The test set here is simply used as a hold-out set which will not get used for training the algorithm."
   ]
  },
  {
   "cell_type": "code",
   "execution_count": 3,
   "id": "8707a288-aa57-4fbd-8b67-6829ca78e9cd",
   "metadata": {},
   "outputs": [],
   "source": [
    "emp_churn_all = DataFrame(conn, 'select * from EMP_CHURN')"
   ]
  },
  {
   "cell_type": "code",
   "execution_count": 4,
   "id": "a59273df-d414-4302-881c-ac219469561b",
   "metadata": {},
   "outputs": [],
   "source": [
    "train, test, valid = train_test_val_split(emp_churn_all, testing_percentage=0.2, validation_size=0)"
   ]
  },
  {
   "cell_type": "markdown",
   "id": "442a9e56-63e5-4519-8238-d912c9d351a8",
   "metadata": {},
   "source": [
    "Now store the train and test datasets into their own tables:"
   ]
  },
  {
   "cell_type": "code",
   "execution_count": 5,
   "id": "ff3b9052-8ea6-4abe-b3f5-8193ae198478",
   "metadata": {},
   "outputs": [
    {
     "data": {
      "text/plain": [
       "<hana_ml.dataframe.DataFrame at 0x206dbbf6f10>"
      ]
     },
     "execution_count": 5,
     "metadata": {},
     "output_type": "execute_result"
    }
   ],
   "source": [
    "train.save('EMP_CHURN_TRAIN', force=True)\n",
    "test.save('EMP_CHURN_TEST', force=True)"
   ]
  },
  {
   "cell_type": "markdown",
   "id": "e3103a30-ad51-494e-b341-b7fb45912f32",
   "metadata": {},
   "source": [
    "The data from the train table will be used to fit a classifier:"
   ]
  },
  {
   "cell_type": "code",
   "execution_count": 6,
   "id": "dac16915-57f6-4239-8a74-ea7a6139a2ed",
   "metadata": {},
   "outputs": [],
   "source": [
    "model = GradientBoostingBinaryClassifier(variable_auto_selection = True)\n",
    "\n",
    "model.set_params(\n",
    "    extra_applyout_settings={\n",
    "        'APL/ApplyExtraMode': 'Advanced Apply Settings',\n",
    "        'APL/ApplyPredictedValue': 'true',\n",
    "        'APL/ApplyProbability': 'false',       \n",
    "        'APL/ApplyDecision': 'true',   \n",
    "    })\n",
    "\n",
    "model.fit(train, label='FLIGHT_RISK', key='EMPLOYEE_ID')"
   ]
  },
  {
   "cell_type": "markdown",
   "id": "7bd714b4-4a6f-473b-9726-ffd8eab0fc52",
   "metadata": {},
   "source": [
    "Now apply the trained model on the hold-out dataset and view a few examples:"
   ]
  },
  {
   "cell_type": "code",
   "execution_count": 7,
   "id": "6ead31fe-e4c9-42c7-9660-3a6664579e30",
   "metadata": {},
   "outputs": [
    {
     "name": "stdout",
     "output_type": "stream",
     "text": [
      "   EMPLOYEE_ID TRUE_LABEL PREDICTED  gb_score_FLIGHT_RISK\n",
      "0        10158         No        No             -5.249740\n",
      "1        10182         No        No             -4.838394\n",
      "2        10200        Yes       Yes             -0.586952\n",
      "3        10259         No        No             -4.663995\n",
      "4        10282         No        No             -3.881936\n",
      "5        10328         No        No             -1.877677\n",
      "6        10332        Yes        No             -1.365033\n",
      "7        10338         No        No             -2.078447\n",
      "8        10343         No       Yes             -0.962751\n",
      "9        10361         No        No             -2.160242\n"
     ]
    }
   ],
   "source": [
    "apply_out = model.predict(test)\n",
    "pdf_apply_out = apply_out.collect()\n",
    "\n",
    "print(pdf_apply_out.head(10))"
   ]
  },
  {
   "cell_type": "markdown",
   "id": "b56a5830-8295-4eee-8a58-1343a82ff84e",
   "metadata": {},
   "source": [
    "We will use the AUC metric for retrieving the classifier's performance. This will be in the interval [0..1] where we would like it to be close to 1."
   ]
  },
  {
   "cell_type": "code",
   "execution_count": 8,
   "id": "f50ea51f-b8a1-41e9-a229-521dc1ed4e4f",
   "metadata": {},
   "outputs": [
    {
     "data": {
      "text/plain": [
       "0.905"
      ]
     },
     "execution_count": 8,
     "metadata": {},
     "output_type": "execute_result"
    }
   ],
   "source": [
    "model.get_performance_metrics()['AUC']"
   ]
  },
  {
   "cell_type": "markdown",
   "id": "6dbe737b-7ee7-4ab4-abd7-49d5d868c208",
   "metadata": {},
   "source": [
    "Let's see an overview of the feature importances. This lists the variables from the dataset contributing the most towards the flight risk from top to bottom.\n",
    "\n",
    "The numbers display their share of importance, summing up to 1."
   ]
  },
  {
   "cell_type": "code",
   "execution_count": 9,
   "id": "47e7e1de",
   "metadata": {},
   "outputs": [],
   "source": [
    "# Disabled the unified report because this does not show correctly in Github.\n",
    "# Enable the below line if using Jupyter Lab or vs.code for a graphical model report\n",
    "\n",
    "#UnifiedReport(model).build().display()"
   ]
  },
  {
   "cell_type": "code",
   "execution_count": 10,
   "id": "72109428-bde9-4c4b-9a47-1ffe2831d51d",
   "metadata": {},
   "outputs": [
    {
     "data": {
      "text/plain": [
       "{'ExactSHAP': OrderedDict([('FUNCTIONALAREACHANGETYPE', 0.2440330535173416),\n",
       "              ('PROMOTION_WITHIN_LAST_3_YEARS', 0.14001020789146423),\n",
       "              ('TIMEINPREVPOSITIONMONTH', 0.10031360387802124),\n",
       "              ('EMPLOYMENT_TYPE_2', 0.0914246216416359),\n",
       "              ('AGE', 0.03436921909451485),\n",
       "              ('SALARY', 0.0322422981262207),\n",
       "              ('JOBLEVELCHANGETYPE', 0.0318293422460556),\n",
       "              ('RISK_OF_LOSS', 0.029726015403866768),\n",
       "              ('TENURE_MONTHS', 0.028254985809326172),\n",
       "              ('GENDER', 0.027538727968931198),\n",
       "              ('PREVCOUNTRYLON', 0.02592954970896244),\n",
       "              ('PREVIOUS_PERFORMANCE_RATING', 0.025640953332185745),\n",
       "              ('PREVCOUNTRYLAT', 0.023161407560110092),\n",
       "              ('CURCOUNTRYLON', 0.020921478047966957),\n",
       "              ('IMPACT_OF_LOSS', 0.01535748690366745),\n",
       "              ('CHANGE_IN_PERFORMANCE_RATING', 0.014801138080656528),\n",
       "              ('CRITICAL_JOB_ROLE', 0.01358804851770401),\n",
       "              ('CURCOUNTRYLAT', 0.012744266539812088),\n",
       "              ('FUTURE_LEADER', 0.01247906219214201),\n",
       "              ('CURRENT_COUNTRY', 0.012207101099193096),\n",
       "              ('PREVIOUS_JOB_LEVEL', 0.011438841931521893),\n",
       "              ('PREVIOUS_COUNTRY', 0.010542517527937889),\n",
       "              ('MINORITY', 0.01022106222808361),\n",
       "              ('CURRENT_FUNCTIONAL_AREA', 0.009301586076617241),\n",
       "              ('PREVIOUS_FUNCTIONAL_AREA', 0.009036117233335972),\n",
       "              ('CURRENT_JOB_LEVEL', 0.0071483696810901165),\n",
       "              ('GENERATION', 0.005738927982747555)])}"
      ]
     },
     "execution_count": 10,
     "metadata": {},
     "output_type": "execute_result"
    }
   ],
   "source": [
    "model.get_feature_importances()"
   ]
  },
  {
   "cell_type": "markdown",
   "id": "09801880-ea4b-44a0-a380-d8ac1b1d63e5",
   "metadata": {},
   "source": [
    "It appears that the field FUNCTIONALAREACHANGETYPE is the most important towards predicting the target. Lets see what this field contains:"
   ]
  },
  {
   "cell_type": "code",
   "execution_count": 11,
   "id": "0cb836ad",
   "metadata": {},
   "outputs": [
    {
     "data": {
      "text/html": [
       "<div>\n",
       "<style scoped>\n",
       "    .dataframe tbody tr th:only-of-type {\n",
       "        vertical-align: middle;\n",
       "    }\n",
       "\n",
       "    .dataframe tbody tr th {\n",
       "        vertical-align: top;\n",
       "    }\n",
       "\n",
       "    .dataframe thead th {\n",
       "        text-align: right;\n",
       "    }\n",
       "</style>\n",
       "<table border=\"1\" class=\"dataframe\">\n",
       "  <thead>\n",
       "    <tr style=\"text-align: right;\">\n",
       "      <th></th>\n",
       "      <th>FUNCTIONALAREACHANGETYPE</th>\n",
       "      <th>COUNT</th>\n",
       "    </tr>\n",
       "  </thead>\n",
       "  <tbody>\n",
       "    <tr>\n",
       "      <th>0</th>\n",
       "      <td>No change</td>\n",
       "      <td>5220</td>\n",
       "    </tr>\n",
       "    <tr>\n",
       "      <th>1</th>\n",
       "      <td>Cross-Functional Move</td>\n",
       "      <td>5995</td>\n",
       "    </tr>\n",
       "    <tr>\n",
       "      <th>2</th>\n",
       "      <td>External Hire</td>\n",
       "      <td>1301</td>\n",
       "    </tr>\n",
       "    <tr>\n",
       "      <th>3</th>\n",
       "      <td>Intra-Functional Move</td>\n",
       "      <td>6599</td>\n",
       "    </tr>\n",
       "  </tbody>\n",
       "</table>\n",
       "</div>"
      ],
      "text/plain": [
       "  FUNCTIONALAREACHANGETYPE  COUNT\n",
       "0                No change   5220\n",
       "1    Cross-Functional Move   5995\n",
       "2            External Hire   1301\n",
       "3    Intra-Functional Move   6599"
      ]
     },
     "execution_count": 11,
     "metadata": {},
     "output_type": "execute_result"
    }
   ],
   "source": [
    "emp_churn_all.agg([('count', 'FUNCTIONALAREACHANGETYPE', 'COUNT')], group_by='FUNCTIONALAREACHANGETYPE').collect()"
   ]
  },
  {
   "cell_type": "markdown",
   "id": "cdff7987-4308-411c-890e-14084332466c",
   "metadata": {},
   "source": [
    "This tells that field FUNCTIONALAREACHANGETYPE incidates whether the employee has recently been allowed an Intra-functional or Cross-functional move or whether there has been no change (we will ignore the External hires as the company has no influence on their churn).\n",
    "\n",
    "Now let's examing the employees for which the model predicts they will be churning:"
   ]
  },
  {
   "cell_type": "code",
   "execution_count": 12,
   "id": "8e82b3b4",
   "metadata": {},
   "outputs": [
    {
     "name": "stdout",
     "output_type": "stream",
     "text": [
      "Number of employees in test set with positive flight risk: 468\n"
     ]
    }
   ],
   "source": [
    "emp_flightrisk = apply_out.filter('PREDICTED = \\'Yes\\'')\n",
    "num_flightrisk = emp_flightrisk.describe('EMPLOYEE_ID').collect()['count'].values[0]\n",
    "print('Number of employees in test set with positive flight risk: {}'.format(num_flightrisk))"
   ]
  },
  {
   "cell_type": "markdown",
   "id": "3e798b2f-69a9-4c5a-b627-e8a293708929",
   "metadata": {},
   "source": [
    "The above shows the number of employees in the test set with a risk of churning according to the statistical model.\n",
    "\n",
    "Now we will take this table of employees with a flight risk and join it with the original table as loaded from the input CSV. This will list all details of the employees with a churn risk."
   ]
  },
  {
   "cell_type": "code",
   "execution_count": 13,
   "id": "0ad9f0de-234a-4db7-8a7b-9ef3bb3dfd84",
   "metadata": {},
   "outputs": [],
   "source": [
    "emp_flightrisk_new = emp_flightrisk.alias('L').join(emp_churn_all.alias('R'), 'L.EMPLOYEE_ID = R.EMPLOYEE_ID', select=[\n",
    "    ('L.EMPLOYEE_ID', 'EMPLOYEE_ID'),\n",
    "    'AGE', 'AGE_GROUP10', 'AGE_GROUP5', 'GENERATION', 'CRITICAL_JOB_ROLE', 'RISK_OF_LOSS', 'IMPACT_OF_LOSS', \n",
    "    'FUTURE_LEADER', 'GENDER', 'MGR_EMP', 'MINORITY', 'TENURE_MONTHS', 'TENURE_INTERVAL_YEARS', 'TENURE_INTERVALL_DESC',\n",
    "    'SALARY', 'EMPLOYMENT_TYPE', 'EMPLOYMENT_TYPE_2', 'HIGH_POTENTIAL', 'PREVIOUS_FUNCTIONAL_AREA', 'PREVIOUS_JOB_LEVEL', \n",
    "    'PREVIOUS_CAREER_PATH', 'PREVIOUS_PERFORMANCE_RATING', 'PREVIOUS_COUNTRY', 'PREVCOUNTRYLAT', 'PREVCOUNTRYLON', \n",
    "    'PREVIOUS_REGION', 'TIMEINPREVPOSITIONMONTH', 'CURRENT_FUNCTIONAL_AREA', 'CURRENT_JOB_LEVEL', 'CURRENT_CAREER_PATH',\n",
    "    'CURRENT_PERFORMANCE_RATING', 'CURRENT_REGION', 'CURRENT_COUNTRY', 'CURCOUNTRYLAT', 'CURCOUNTRYLON', \n",
    "    'PROMOTION_WITHIN_LAST_3_YEARS', 'CHANGED_POSITION_WITHIN_LAST_2_YEARS', 'CHANGE_IN_PERFORMANCE_RATING',\n",
    "    'FUNCTIONALAREACHANGETYPE', 'JOBLEVELCHANGETYPE', 'HEADS'\n",
    "])\n",
    "\n",
    "pdf_emp_flightrisk = emp_flightrisk_new.collect()"
   ]
  },
  {
   "cell_type": "markdown",
   "id": "ef77125e",
   "metadata": {},
   "source": [
    "Now let's see what the functional area change types are for those employees with a flight risk:"
   ]
  },
  {
   "cell_type": "code",
   "execution_count": 14,
   "id": "95b1961e",
   "metadata": {},
   "outputs": [
    {
     "data": {
      "text/plain": [
       "Intra-Functional Move    282\n",
       "No change                 96\n",
       "Cross-Functional Move     82\n",
       "External Hire              8\n",
       "Name: FUNCTIONALAREACHANGETYPE, dtype: int64"
      ]
     },
     "execution_count": 14,
     "metadata": {},
     "output_type": "execute_result"
    }
   ],
   "source": [
    "pdf_emp_flightrisk['FUNCTIONALAREACHANGETYPE'].value_counts()"
   ]
  },
  {
   "cell_type": "markdown",
   "id": "08b6a624",
   "metadata": {},
   "source": [
    "We will remove the external hires from the dataset, as the company cannot influence their function in the same way as internal employees:"
   ]
  },
  {
   "cell_type": "code",
   "execution_count": 15,
   "id": "a65983ee",
   "metadata": {},
   "outputs": [],
   "source": [
    "pdf_emp_flightrisk.drop( pdf_emp_flightrisk[(pdf_emp_flightrisk['FUNCTIONALAREACHANGETYPE'] == 'External Hire')].index, inplace=True)"
   ]
  },
  {
   "cell_type": "code",
   "execution_count": 16,
   "id": "a9325403",
   "metadata": {},
   "outputs": [
    {
     "data": {
      "text/plain": [
       "Intra-Functional Move    282\n",
       "No change                 96\n",
       "Cross-Functional Move     82\n",
       "Name: FUNCTIONALAREACHANGETYPE, dtype: int64"
      ]
     },
     "execution_count": 16,
     "metadata": {},
     "output_type": "execute_result"
    }
   ],
   "source": [
    "pdf_emp_flightrisk['FUNCTIONALAREACHANGETYPE'].value_counts()"
   ]
  },
  {
   "cell_type": "markdown",
   "id": "a5466a51-46aa-482f-aaa7-a962bc2c165f",
   "metadata": {},
   "source": [
    "To check the effect of the functional area change type for these employees with a churn risk, their functional area change type will be set to 'Cross-functional move':"
   ]
  },
  {
   "cell_type": "code",
   "execution_count": 17,
   "id": "eef895d0-348e-4d56-9463-601c031f7858",
   "metadata": {},
   "outputs": [
    {
     "data": {
      "text/plain": [
       "Cross-Functional Move    460\n",
       "Name: FUNCTIONALAREACHANGETYPE, dtype: int64"
      ]
     },
     "execution_count": 17,
     "metadata": {},
     "output_type": "execute_result"
    }
   ],
   "source": [
    "pdf_emp_flightrisk['FUNCTIONALAREACHANGETYPE'] = 'Cross-Functional Move'\n",
    "\n",
    "pdf_emp_flightrisk['FUNCTIONALAREACHANGETYPE'].value_counts()"
   ]
  },
  {
   "cell_type": "code",
   "execution_count": 18,
   "id": "d1fa164e-01e5-49ed-b2cb-cdf8d12b30f8",
   "metadata": {},
   "outputs": [
    {
     "name": "stderr",
     "output_type": "stream",
     "text": [
      "100%|██████████| 1/1 [00:00<00:00,  6.52it/s]\n"
     ]
    },
    {
     "data": {
      "text/plain": [
       "<hana_ml.dataframe.DataFrame at 0x206d85abdf0>"
      ]
     },
     "execution_count": 18,
     "metadata": {},
     "output_type": "execute_result"
    }
   ],
   "source": [
    "create_dataframe_from_pandas(conn, pdf_emp_flightrisk, 'CHURNING_EMPLOYEES', force=True)"
   ]
  },
  {
   "cell_type": "code",
   "execution_count": 19,
   "id": "3d245210-0e47-49e4-ad16-1fd72ae1ac16",
   "metadata": {},
   "outputs": [],
   "source": [
    "emp_churning = DataFrame(conn, 'select * from CHURNING_EMPLOYEES')\n",
    "apply_out_new = model.predict(emp_churning)"
   ]
  },
  {
   "cell_type": "code",
   "execution_count": 20,
   "id": "2215ab2a-00d5-4124-a604-590aea92fdd0",
   "metadata": {},
   "outputs": [
    {
     "name": "stdout",
     "output_type": "stream",
     "text": [
      "Number of employees in test set with positive flight risk after change in Functional Area Change Type from No change to Cross-Functional Move: 146\n",
      "This is down 322, which means that 68.8% of employees can possibly be prevented from churning by allowing them a Cross-Functional Move\n"
     ]
    }
   ],
   "source": [
    "emp_flightrisk_new_pos = apply_out_new.filter('PREDICTED = \\'Yes\\'')\n",
    "num_flightrisk_new = emp_flightrisk_new_pos.describe('EMPLOYEE_ID').collect()['count'].values[0]\n",
    "num_flightrisk_delta = num_flightrisk - num_flightrisk_new\n",
    "print('Number of employees in test set with positive flight risk after change in Functional Area Change Type from No change to Cross-Functional Move: {}'.format(num_flightrisk_new))\n",
    "\n",
    "print('This is down {}, which means that {:.1f}% of employees can possibly be prevented from churning by allowing them a Cross-Functional Move'.format(num_flightrisk_delta, num_flightrisk_delta / num_flightrisk * 100))"
   ]
  }
 ],
 "metadata": {
  "kernelspec": {
   "display_name": "Python 3.8.13 ('python38')",
   "language": "python",
   "name": "python3"
  },
  "language_info": {
   "codemirror_mode": {
    "name": "ipython",
    "version": 3
   },
   "file_extension": ".py",
   "mimetype": "text/x-python",
   "name": "python",
   "nbconvert_exporter": "python",
   "pygments_lexer": "ipython3",
   "version": "3.8.15"
  },
  "vscode": {
   "interpreter": {
    "hash": "efe1470d80a06f5104ed6c85839ffb327a94b7c544be88171ff414c89f1823d0"
   }
  }
 },
 "nbformat": 4,
 "nbformat_minor": 5
}
