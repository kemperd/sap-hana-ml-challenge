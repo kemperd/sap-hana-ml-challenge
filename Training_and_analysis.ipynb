{
 "cells": [
  {
   "cell_type": "code",
   "execution_count": 1,
   "id": "a4877ff4-2f99-4571-871d-b685aa520e78",
   "metadata": {},
   "outputs": [],
   "source": [
    "from hana_ml import DataFrame, ConnectionContext\n",
    "from hana_ml.dataframe import create_dataframe_from_pandas\n",
    "from hana_ml.algorithms.apl.classification import AutoClassifier\n",
    "from hana_ml.algorithms.pal.partition import train_test_val_split"
   ]
  },
  {
   "cell_type": "code",
   "execution_count": 2,
   "id": "90a80302-8cca-4f1b-aa77-a50810df7c35",
   "metadata": {},
   "outputs": [],
   "source": [
    "hana_address = '8c7eed2e-f460-4a82-abfa-e3ede36923d7.hna1.prod-eu10.hanacloud.ondemand.com' \n",
    "hana_port = 443\n",
    "hana_user = 'MLCU_008' \n",
    "hana_password = 'Welcome22' \n",
    "hana_encrypt = 'true'\n",
    "\n",
    "# Instantiate connection object\n",
    "conn = ConnectionContext(address = hana_address,\n",
    "                                   port = 443, \n",
    "                                   user = hana_user, \n",
    "                                   password = hana_password, \n",
    "                                   encrypt = hana_encrypt,\n",
    "                                   sslValidateCertificate = 'false' \n",
    "                                  )\n"
   ]
  },
  {
   "cell_type": "markdown",
   "id": "5b4e2a11-b934-4753-a9ff-fba54ff9ff0f",
   "metadata": {},
   "source": [
    "At this point we are assuming that table EMP_CHURN contains the data from the CSV file. This step has been done in the \"Data Upload\" notebook.\n",
    "\n",
    "We will split up the data into a train and test set. We do not need a validation set as the APL will already split the train set into a train and validation set internally. The test set here is simply used as a hold-out set which will not get used for training the algorithm."
   ]
  },
  {
   "cell_type": "code",
   "execution_count": 3,
   "id": "8707a288-aa57-4fbd-8b67-6829ca78e9cd",
   "metadata": {},
   "outputs": [],
   "source": [
    "emp_churn_all = DataFrame(conn, 'select * from EMP_CHURN')"
   ]
  },
  {
   "cell_type": "code",
   "execution_count": 4,
   "id": "a59273df-d414-4302-881c-ac219469561b",
   "metadata": {},
   "outputs": [],
   "source": [
    "train, test, valid = train_test_val_split(emp_churn_all, testing_percentage=0.2, validation_size=0)"
   ]
  },
  {
   "cell_type": "markdown",
   "id": "442a9e56-63e5-4519-8238-d912c9d351a8",
   "metadata": {},
   "source": [
    "Now store the train and test datasets into their own tables:"
   ]
  },
  {
   "cell_type": "code",
   "execution_count": 5,
   "id": "ff3b9052-8ea6-4abe-b3f5-8193ae198478",
   "metadata": {},
   "outputs": [
    {
     "data": {
      "text/plain": [
       "<hana_ml.dataframe.DataFrame at 0x193073b9cd0>"
      ]
     },
     "execution_count": 5,
     "metadata": {},
     "output_type": "execute_result"
    }
   ],
   "source": [
    "train.save('EMP_CHURN_TRAIN')\n",
    "test.save('EMP_CHURN_TEST')"
   ]
  },
  {
   "cell_type": "markdown",
   "id": "e3103a30-ad51-494e-b341-b7fb45912f32",
   "metadata": {},
   "source": [
    "The data from the train table will be used to fit a classifier:"
   ]
  },
  {
   "cell_type": "code",
   "execution_count": 6,
   "id": "dac16915-57f6-4239-8a74-ea7a6139a2ed",
   "metadata": {},
   "outputs": [],
   "source": [
    "model = AutoClassifier(conn_context=conn, variable_auto_selection=True)\n",
    "#model.set_params(\n",
    "#    extra_applyout_settings={\n",
    "#        'APL/ApplyContribution': 'all'\n",
    "#    })\n",
    "\n",
    "model.fit(train, label='FLIGHT_RISK', key='EMPLOYEE_ID')"
   ]
  },
  {
   "cell_type": "markdown",
   "id": "7bd714b4-4a6f-473b-9726-ffd8eab0fc52",
   "metadata": {},
   "source": [
    "Now apply the trained model on the hold-out dataset and view a few examples:"
   ]
  },
  {
   "cell_type": "code",
   "execution_count": 7,
   "id": "6ead31fe-e4c9-42c7-9660-3a6664579e30",
   "metadata": {},
   "outputs": [
    {
     "name": "stdout",
     "output_type": "stream",
     "text": [
      "    EMPLOYEE_ID TRUE_LABEL PREDICTED  PROBABILITY\n",
      "0         10102         No        No     0.945495\n",
      "1         10198         No        No     0.999998\n",
      "2         10256         No        No     0.998772\n",
      "3         10259         No        No     0.999998\n",
      "4         10261        Yes        No     0.928935\n",
      "..          ...        ...       ...          ...\n",
      "95        14821         No       Yes     0.303692\n",
      "96        14833         No        No     0.928768\n",
      "97        15242         No        No     0.878350\n",
      "98        15609         No        No     0.875925\n",
      "99        15611         No        No     0.977075\n",
      "\n",
      "[100 rows x 4 columns]\n"
     ]
    }
   ],
   "source": [
    "apply_out = model.predict(test)\n",
    "print(apply_out.head(100).collect())"
   ]
  },
  {
   "cell_type": "markdown",
   "id": "b56a5830-8295-4eee-8a58-1343a82ff84e",
   "metadata": {},
   "source": [
    "We will use the AUC metric for retrieving the classifier's performance. This will be in the interval [0..1] where we would like it to be close to 1."
   ]
  },
  {
   "cell_type": "code",
   "execution_count": 8,
   "id": "f50ea51f-b8a1-41e9-a229-521dc1ed4e4f",
   "metadata": {},
   "outputs": [
    {
     "data": {
      "text/plain": [
       "0.8225"
      ]
     },
     "execution_count": 8,
     "metadata": {},
     "output_type": "execute_result"
    }
   ],
   "source": [
    "model.get_performance_metrics()['AUC']"
   ]
  },
  {
   "cell_type": "markdown",
   "id": "6dbe737b-7ee7-4ab4-abd7-49d5d868c208",
   "metadata": {},
   "source": [
    "Let's see an overview of the feature importances. This lists the variables from the dataset contributing the most towards the flight risk from top to bottom.\n",
    "\n",
    "The numbers display their share of importance, summing up to 1."
   ]
  },
  {
   "cell_type": "code",
   "execution_count": 9,
   "id": "72109428-bde9-4c4b-9a47-1ffe2831d51d",
   "metadata": {},
   "outputs": [
    {
     "data": {
      "text/plain": [
       "OrderedDict([('EMPLOYMENT_TYPE_2', 0.18583554773494607),\n",
       "             ('TIMEINPREVPOSITIONMONTH', 0.16786299514880204),\n",
       "             ('FUNCTIONALAREACHANGETYPE', 0.1127601179230471),\n",
       "             ('PROMOTION_WITHIN_LAST_3_YEARS', 0.09419017758315447),\n",
       "             ('CHANGE_IN_PERFORMANCE_RATING', 0.08047987880415516),\n",
       "             ('AGE', 0.051665987778959865),\n",
       "             ('CURCOUNTRYLON', 0.050919529343584014),\n",
       "             ('GENDER', 0.04890419383768541),\n",
       "             ('CHANGED_POSITION_WITHIN_LAST_2_YEARS', 0.036813988734119486),\n",
       "             ('PREVIOUS_PERFORMANCE_RATING', 0.03089791873322329),\n",
       "             ('GENERATION', 0.024702433374270548),\n",
       "             ('CURRENT_FUNCTIONAL_AREA', 0.02415320601669405),\n",
       "             ('CRITICAL_JOB_ROLE', 0.021989952642134276),\n",
       "             ('PREVIOUS_JOB_LEVEL', 0.020181007115439107),\n",
       "             ('PREVIOUS_FUNCTIONAL_AREA', 0.01822230259028073),\n",
       "             ('RISK_OF_LOSS', 0.01652352857750571),\n",
       "             ('CURRENT_CAREER_PATH', 0.013897234061998857)])"
      ]
     },
     "execution_count": 9,
     "metadata": {},
     "output_type": "execute_result"
    }
   ],
   "source": [
    "model.get_feature_importances()"
   ]
  },
  {
   "cell_type": "markdown",
   "id": "09801880-ea4b-44a0-a380-d8ac1b1d63e5",
   "metadata": {},
   "source": [
    "It appears that the field EMPLOYMENT_TYPE_2 is the most important towards predicting the target. Lets see what this field contains:"
   ]
  },
  {
   "cell_type": "code",
   "execution_count": 30,
   "id": "3364012c-e947-44e2-b092-3f4e10407b00",
   "metadata": {},
   "outputs": [
    {
     "data": {
      "text/html": [
       "<div>\n",
       "<style scoped>\n",
       "    .dataframe tbody tr th:only-of-type {\n",
       "        vertical-align: middle;\n",
       "    }\n",
       "\n",
       "    .dataframe tbody tr th {\n",
       "        vertical-align: top;\n",
       "    }\n",
       "\n",
       "    .dataframe thead th {\n",
       "        text-align: right;\n",
       "    }\n",
       "</style>\n",
       "<table border=\"1\" class=\"dataframe\">\n",
       "  <thead>\n",
       "    <tr style=\"text-align: right;\">\n",
       "      <th></th>\n",
       "      <th>EMPLOYMENT_TYPE_2</th>\n",
       "      <th>COUNT</th>\n",
       "    </tr>\n",
       "  </thead>\n",
       "  <tbody>\n",
       "    <tr>\n",
       "      <th>0</th>\n",
       "      <td>Regular</td>\n",
       "      <td>16835</td>\n",
       "    </tr>\n",
       "    <tr>\n",
       "      <th>1</th>\n",
       "      <td>Temporary</td>\n",
       "      <td>2280</td>\n",
       "    </tr>\n",
       "  </tbody>\n",
       "</table>\n",
       "</div>"
      ],
      "text/plain": [
       "  EMPLOYMENT_TYPE_2  COUNT\n",
       "0           Regular  16835\n",
       "1         Temporary   2280"
      ]
     },
     "execution_count": 30,
     "metadata": {},
     "output_type": "execute_result"
    }
   ],
   "source": [
    "emp_churn_all.agg([('count', 'EMPLOYMENT_TYPE_2', 'COUNT')], group_by='EMPLOYMENT_TYPE_2').collect()"
   ]
  },
  {
   "cell_type": "markdown",
   "id": "cdff7987-4308-411c-890e-14084332466c",
   "metadata": {},
   "source": [
    "This tells the EMPLOYMENT_TYPE_2 incidates whether the employee's contract is a regular or temporary one.\n",
    "\n",
    "Now let's examing the employees for which the model predicts they will be churning:"
   ]
  },
  {
   "cell_type": "code",
   "execution_count": 11,
   "id": "34113e11-a75e-4b0e-a5b0-e6811b004a9e",
   "metadata": {},
   "outputs": [
    {
     "name": "stdout",
     "output_type": "stream",
     "text": [
      "Number of employees in test set with positive flight risk: 465\n"
     ]
    }
   ],
   "source": [
    "emp_flightrisk = apply_out.filter('PREDICTED = \\'Yes\\'')\n",
    "num_flightrisk = emp_flightrisk.describe('EMPLOYEE_ID').collect()['count'].values[0]\n",
    "print('Number of employees in test set with positive flight risk: {}'.format(num_flightrisk))"
   ]
  },
  {
   "cell_type": "markdown",
   "id": "3e798b2f-69a9-4c5a-b627-e8a293708929",
   "metadata": {},
   "source": [
    "The above shows the number of employees in the test set with a risk of churning according to the statistical model\n",
    "\n",
    "Now we will take this table of employees with a flight risk and join it with the original table as loaded from the input CSV. This will list all details of the employees with a churn risk."
   ]
  },
  {
   "cell_type": "code",
   "execution_count": 13,
   "id": "0ad9f0de-234a-4db7-8a7b-9ef3bb3dfd84",
   "metadata": {},
   "outputs": [],
   "source": [
    "emp_flightrisk_new = emp_flightrisk.alias('L').join(emp_churn_all.alias('R'), 'L.EMPLOYEE_ID = R.EMPLOYEE_ID', select=[\n",
    "    ('L.EMPLOYEE_ID', 'EMPLOYEE_ID'),\n",
    "    'AGE',\n",
    "    'AGE_GROUP10',\n",
    "    'AGE_GROUP5',\n",
    "    'GENERATION',\n",
    "    'CRITICAL_JOB_ROLE',\n",
    "    'RISK_OF_LOSS',\n",
    "    'IMPACT_OF_LOSS',\n",
    "    'FUTURE_LEADER',\n",
    "    'GENDER',\n",
    "    'MGR_EMP',\n",
    "    'MINORITY',\n",
    "    'TENURE_MONTHS',\n",
    "    'TENURE_INTERVAL_YEARS',\n",
    "    'TENURE_INTERVALL_DESC',\n",
    "#    ('SALARY * 2', 'SALARY'),\n",
    "    'SALARY',\n",
    "    'EMPLOYMENT_TYPE',\n",
    "    'EMPLOYMENT_TYPE_2',\n",
    "    'HIGH_POTENTIAL',\n",
    "    'PREVIOUS_FUNCTIONAL_AREA',\n",
    "    'PREVIOUS_JOB_LEVEL',\n",
    "    'PREVIOUS_CAREER_PATH',\n",
    "    'PREVIOUS_PERFORMANCE_RATING',\n",
    "    'PREVIOUS_COUNTRY',\n",
    "    'PREVCOUNTRYLAT',\n",
    "    'PREVCOUNTRYLON',\n",
    "    'PREVIOUS_REGION',\n",
    "    'TIMEINPREVPOSITIONMONTH',\n",
    "    'CURRENT_FUNCTIONAL_AREA',\n",
    "    'CURRENT_JOB_LEVEL',\n",
    "    'CURRENT_CAREER_PATH',\n",
    "    'CURRENT_PERFORMANCE_RATING',\n",
    "    'CURRENT_REGION',\n",
    "    'CURRENT_COUNTRY',\n",
    "    'CURCOUNTRYLAT',\n",
    "    'CURCOUNTRYLON',\n",
    "    'PROMOTION_WITHIN_LAST_3_YEARS',\n",
    "    'CHANGED_POSITION_WITHIN_LAST_2_YEARS',\n",
    "    'CHANGE_IN_PERFORMANCE_RATING',\n",
    "    'FUNCTIONALAREACHANGETYPE',\n",
    "    'JOBLEVELCHANGETYPE',\n",
    "    'HEADS',\n",
    "    'FLIGHT_RISK'\n",
    "])\n",
    "\n",
    "pdf_emp_flightrisk = emp_flightrisk_new.collect()"
   ]
  },
  {
   "cell_type": "markdown",
   "id": "a5466a51-46aa-482f-aaa7-a962bc2c165f",
   "metadata": {},
   "source": [
    "To check the effect of the employment type for these employees with a churn risk, their status will be modified to be a regular (non-temporary) employee:"
   ]
  },
  {
   "cell_type": "code",
   "execution_count": 14,
   "id": "eef895d0-348e-4d56-9463-601c031f7858",
   "metadata": {},
   "outputs": [],
   "source": [
    "pdf_emp_flightrisk['EMPLOYMENT_TYPE_2'] = 'Regular'"
   ]
  },
  {
   "cell_type": "code",
   "execution_count": 15,
   "id": "d1fa164e-01e5-49ed-b2cb-cdf8d12b30f8",
   "metadata": {},
   "outputs": [
    {
     "name": "stderr",
     "output_type": "stream",
     "text": [
      "100%|████████████████████████████████████████████████████████████████████████████████████| 1/1 [00:00<00:00,  4.00it/s]\n"
     ]
    },
    {
     "data": {
      "text/plain": [
       "<hana_ml.dataframe.DataFrame at 0x19304800ca0>"
      ]
     },
     "execution_count": 15,
     "metadata": {},
     "output_type": "execute_result"
    }
   ],
   "source": [
    "create_dataframe_from_pandas(conn, pdf_emp_flightrisk, 'CHURNING_EMPLOYEES', force=True)"
   ]
  },
  {
   "cell_type": "code",
   "execution_count": 16,
   "id": "3d245210-0e47-49e4-ad16-1fd72ae1ac16",
   "metadata": {},
   "outputs": [],
   "source": [
    "emp_churning = DataFrame(conn, 'select * from CHURNING_EMPLOYEES')\n",
    "apply_out_new = model.predict(emp_churning)"
   ]
  },
  {
   "cell_type": "code",
   "execution_count": 35,
   "id": "2215ab2a-00d5-4124-a604-590aea92fdd0",
   "metadata": {},
   "outputs": [
    {
     "name": "stdout",
     "output_type": "stream",
     "text": [
      "Number of employees in test set with positive flight risk after change in employment type from Temporary to Regular: 172\n",
      "This is a difference of 293, which means that 293 employees can possibly be prevented from churning by providing them a Regular contract\n"
     ]
    }
   ],
   "source": [
    "emp_flightrisk_new_pos = apply_out_new.filter('PREDICTED = \\'Yes\\'')\n",
    "num_flightrisk_new = emp_flightrisk_new_pos.describe('EMPLOYEE_ID').collect()['count'].values[0]\n",
    "print('Number of employees in test set with positive flight risk after change in employment type from Temporary to Regular: {}'.format(num_flightrisk_new))\n",
    "\n",
    "print('This is a difference of {}, which means that {} employees can possibly be prevented from churning by providing them a Regular contract'.format(num_flightrisk - num_flightrisk_new, num_flightrisk - num_flightrisk_new))"
   ]
  },
  {
   "cell_type": "code",
   "execution_count": null,
   "id": "951559a8-fe44-460c-bb6e-90c52d721d94",
   "metadata": {},
   "outputs": [],
   "source": []
  },
  {
   "cell_type": "code",
   "execution_count": null,
   "id": "6871ec1a-7825-40fb-b687-5490fb5ae46b",
   "metadata": {},
   "outputs": [],
   "source": []
  }
 ],
 "metadata": {
  "kernelspec": {
   "display_name": "Python 3 (ipykernel)",
   "language": "python",
   "name": "python3"
  },
  "language_info": {
   "codemirror_mode": {
    "name": "ipython",
    "version": 3
   },
   "file_extension": ".py",
   "mimetype": "text/x-python",
   "name": "python",
   "nbconvert_exporter": "python",
   "pygments_lexer": "ipython3",
   "version": "3.8.5"
  }
 },
 "nbformat": 4,
 "nbformat_minor": 5
}
